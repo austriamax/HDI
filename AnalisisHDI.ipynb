{
 "cells": [
  {
   "cell_type": "markdown",
   "id": "e9c90ae2",
   "metadata": {},
   "source": [
    "## Pruba HDI\n"
   ]
  },
  {
   "cell_type": "code",
   "execution_count": 1,
   "id": "2614ceff",
   "metadata": {},
   "outputs": [
    {
     "data": {
      "text/html": [
       "2"
      ],
      "text/latex": [
       "2"
      ],
      "text/markdown": [
       "2"
      ],
      "text/plain": [
       "[1] 2"
      ]
     },
     "metadata": {},
     "output_type": "display_data"
    }
   ],
   "source": [
    "1+1"
   ]
  }
 ],
 "metadata": {
  "kernelspec": {
   "display_name": "R",
   "language": "R",
   "name": "ir"
  },
  "language_info": {
   "codemirror_mode": "r",
   "file_extension": ".r",
   "mimetype": "text/x-r-source",
   "name": "R",
   "pygments_lexer": "r",
   "version": "3.6.1"
  }
 },
 "nbformat": 4,
 "nbformat_minor": 5
}
